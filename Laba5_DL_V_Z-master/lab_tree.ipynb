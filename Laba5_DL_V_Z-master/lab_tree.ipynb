{
 "cells": [
  {
   "cell_type": "markdown",
   "metadata": {},
   "source": [
    "# Решающее дерево"
   ]
  },
  {
   "cell_type": "markdown",
   "metadata": {},
   "source": [
    "Отметим, что решающее дерево состоит из вершин, в которых записывает некоторое условие, а в листах дерева - прогноз. Условия во внутренних вершинах выбираются простыми. Наиболее частый вариант - проверка лежит ли значение некоторого признака $x^j$ левее порога $t$:\n",
    "\n",
    "$[x^j \\leq t]$\n",
    "\n",
    "Легко заметить, что такое условие зависит только от одного признака. Прогноз в листе является вещественным числом, если решается задача регрессии. Если же решается задача классификации, то в качестве прогноза выступает или класс или распределение вероятностей классов.\n",
    "\n",
    "Запишем некоторую функцию ошибки следующим образом: есть набор данных $X_m$, есть номер рассматриваемого признака $j$ и есть порог $t$.\n",
    "\n",
    "$L(X_m, j, t) \\rightarrow \\underset{j,t}{min}$\n",
    "\n",
    "Осуществим перебор всех возможных признаков $j$ и порогов $t$ для этих признаков. Каждый раз исходное множество будет разбиваться на два подмножества:\n",
    "\n",
    "$X_l = \\{x \\in X_m | [ x^j \\leq t ] \\}$ и $X_к = \\{x \\in X_m | [ x^j > t ] \\}$\n",
    "\n",
    "Такую процедуру можно продолжить для каждого получившегося множества (рекурсивно вызывать функцию деления для получающихся подмножеств).\n",
    "\n",
    "Необходимо отметить, что если вершина была объявлена листом, необходимо сделать прогноз для этого листа. Для задачи регрессии берется среднее значение по этой выборке,\n",
    "для задачи классификации возвращается тот класс, которые наиболее популярен в выборке. Можно указывать вероятность классов в листе.\n",
    "\n",
    "Для каждого разбиения необходимо расчитывать функцию потерь:\n",
    "\n",
    "$L(X_m, j, t) = \\frac{|X_l|}{|X_m|}H(X_l) + \\frac{|X_r|}{|X_m|}H(X_r)$,\n",
    "\n",
    "где $H(X)=\\sum\\limits_{k=1}^{K} p_k(1 - p_k)$ - критерий информативности Джинни.\n",
    "\n",
    "$p_k$ - доля объектов класса $k$ в выборке X:\n",
    "\n",
    "$p_k=\\frac{1}{|X|}\\sum\\limits_{i \\in X}{[y_i = k]}$\n",
    "\n",
    "В задаче работаем только с числовыми данными и строим дерево классификации.\n",
    "\n",
    "Данные сгенерированы случайным образом."
   ]
  },
  {
   "cell_type": "code",
   "execution_count": 83,
   "metadata": {},
   "outputs": [
    {
     "data": {
      "text/plain": [
       "<matplotlib.collections.PathCollection at 0x230efa70710>"
      ]
     },
     "execution_count": 83,
     "metadata": {},
     "output_type": "execute_result"
    },
    {
     "data": {
      "image/png": "[encoded data removed]",
      "text/plain": [
       "<Figure size 432x288 with 1 Axes>"
      ]
     },
     "metadata": {
      "needs_background": "light"
     },
     "output_type": "display_data"
    }
   ],
   "source": [
    "from sklearn.datasets import make_blobs, make_moons\n",
    "import matplotlib.pyplot as plt\n",
    "import numpy as np\n",
    "%matplotlib inline\n",
    "\n",
    "x, y = make_moons(n_samples=100, noise=0.1)\n",
    "plt.scatter(x[:,0], x[:,1], c = y)"
   ]
  },
  {
   "cell_type": "markdown",
   "metadata": {},
   "source": [
    "\n",
    "## Задание\n",
    "\n",
    "Напишите класс дерева, который реализует метод train, которая получает на вход матрицу данных ($x$) и целевые переменные ($y$), на выходе функция возвращает дерево в виде словаря в каждом случае записывается номер признака ($i$), порог разбиения($t$), значение в листовой вершине слева ($y_l$) и значение в листовой вершине справа ($y_r$). Вместо занчения в листовой вершине может содержаться следующий словарь с теми же ключами и так далее.\n",
    "\n",
    "Необходимо учесть:\n",
    "\n",
    "1. Возможность строить дерево строго определенной глубины и возможность указать максимальное количество объектов в листовой вершине.\n",
    "2. Пороги разбиения должны лежать строго по середине между ближайшими обектами.\n",
    "3. Разбиений не требуется, если в получившемся множестве находятся объекты одного класса.\n",
    "4. Количество различных классов объектов в целевой переменной может быть больше двух.\n"
   ]
  },
  {
   "cell_type": "code",
   "execution_count": 84,
   "metadata": {},
   "outputs": [],
   "source": [
    "def getGini(left, right, edge):\n",
    "    allValues = left + right\n",
    "    allValuesCount = float(len(allValues))\n",
    "    allCategories = list(set([value[2] for value in allValues]))\n",
    "    \n",
    "    gini = 0.0\n",
    "    for group in (left, right):\n",
    "        groupLen = float(len(group))\n",
    "        score = 0.0\n",
    "        for category in allCategories:\n",
    "            catRelation = [key[2] for key in group].count(category) / groupLen\n",
    "            score += catRelation * catRelation\n",
    "\n",
    "        gini += (1 - score) * (groupLen / allValuesCount)\n",
    "    return gini"
   ]
  },
  {
   "cell_type": "code",
   "execution_count": 85,
   "metadata": {},
   "outputs": [],
   "source": [
    "def calculateLoss(dimensionTuples, edge):\n",
    "    left = []\n",
    "    right = []\n",
    "    \n",
    "    for value in dimensionTuples:\n",
    "        targetList = left if value[1] <= edge else right\n",
    "        targetList.append(value)\n",
    "\n",
    "    return getGini(left, right, edge)"
   ]
  },
  {
   "cell_type": "code",
   "execution_count": 86,
   "metadata": {},
   "outputs": [],
   "source": [
    "def getDimensionEdge(positionsList, pointValues):\n",
    "    # create tuples for dimension like (index, position, value)\n",
    "    dimensionTuples = []\n",
    "    for key, position in enumerate(positionsList):\n",
    "        dimensionTuples.append((key, position, pointValues[key]))\n",
    "    dimensionTuples.sort(key=lambda v: v[1])\n",
    "    \n",
    "    minGini, index = 1, -1\n",
    "    for key in range(len(dimensionTuples) - 1):\n",
    "        left = dimensionTuples[key]\n",
    "        right = dimensionTuples[key + 1]\n",
    "        edge = (left[1] + right[1]) / 2\n",
    "        \n",
    "        gini = calculateLoss(dimensionTuples, edge)\n",
    "        if (gini < minGini):\n",
    "            minGini, index = gini, key\n",
    "\n",
    "    return minGini, dimensionTuples[index], dimensionTuples[index + 1];"
   ]
  },
  {
   "cell_type": "code",
   "execution_count": 87,
   "metadata": {},
   "outputs": [],
   "source": [
    "def getLeaf(y):\n",
    "    categoriesList = list(set(y));\n",
    "    return -1 if len(categoriesList) > 1 else int(categoriesList[0])"
   ]
  },
  {
   "cell_type": "code",
   "execution_count": 88,
   "metadata": {},
   "outputs": [],
   "source": [
    "def splitByEdge(x, y, dimension, edge):\n",
    "    xTargets = {\n",
    "        'x': [],\n",
    "        'y': []\n",
    "    }\n",
    "    yTargets = {\n",
    "        'x': [],\n",
    "        'y': []\n",
    "    }\n",
    "    for key, values in enumerate(x):\n",
    "        targets = xTargets if values[dimension] <= edge else yTargets\n",
    "        targets['x'].append(values)\n",
    "        targets['y'].append(y[key])\n",
    "\n",
    "    return [xTargets, yTargets]"
   ]
  },
  {
   "cell_type": "code",
   "execution_count": 89,
   "metadata": {},
   "outputs": [],
   "source": [
    "def getEdge(valuesSet):\n",
    "    if(type(valuesSet) is int):\n",
    "        return valuesSet\n",
    "    \n",
    "    x = valuesSet['x']\n",
    "    y = valuesSet['y']\n",
    "    \n",
    "    leaf = getLeaf(y);\n",
    "    \n",
    "    if (not leaf == -1):\n",
    "        return leaf;\n",
    "    \n",
    "    minDimensionKey, minGini, minLeft, minRight = -1, 1, 0, 0\n",
    "    for dimensionKey in range(len(x[0])):\n",
    "        dimensionValues = [values[dimensionKey] for values in x]\n",
    "        gini, left, right = getDimensionEdge(dimensionValues, y)\n",
    "        if (gini < minGini):\n",
    "            minDimensionKey, minGini, minLeft, minRight = dimensionKey, gini, left, right\n",
    "    \n",
    "    edge = (minLeft[1] + minRight[1]) / 2\n",
    "    \n",
    "    left, right = splitByEdge(x, y, minDimensionKey, edge);\n",
    "    leftLeaf = getLeaf(left['y'])\n",
    "    rightLeaf = getLeaf(right['y'])\n",
    "    \n",
    "    return {\n",
    "        'dimension': minDimensionKey,\n",
    "        'edge': edge,\n",
    "        'leftValue': minLeft[1],\n",
    "        'rightValue': minRight[1],\n",
    "        'gini': minGini,\n",
    "        'left': left,\n",
    "        'right': right,\n",
    "    };\n",
    "\n",
    "firstSplit = getEdge({\n",
    "    'x': x,\n",
    "    'y': y\n",
    "})"
   ]
  },
  {
   "cell_type": "code",
   "execution_count": 90,
   "metadata": {},
   "outputs": [
    {
     "ename": "TypeError",
     "evalue": "'int' object is not subscriptable",
     "output_type": "error",
     "traceback": [
      "\u001b[1;31m---------------------------------------------------------------------------\u001b[0m",
      "\u001b[1;31mTypeError\u001b[0m                                 Traceback (most recent call last)",
      "\u001b[1;32m<ipython-input-90-16b579877acf>\u001b[0m in \u001b[0;36m<module>\u001b[1;34m()\u001b[0m\n\u001b[0;32m     11\u001b[0m                          np.arange(x1_min, x1_max, h))\n\u001b[0;32m     12\u001b[0m \u001b[1;33m\u001b[0m\u001b[0m\n\u001b[1;32m---> 13\u001b[1;33m \u001b[0mZ\u001b[0m \u001b[1;33m=\u001b[0m \u001b[0mtree_clf\u001b[0m\u001b[1;33m(\u001b[0m\u001b[0mnp\u001b[0m\u001b[1;33m.\u001b[0m\u001b[0mstack\u001b[0m\u001b[1;33m(\u001b[0m\u001b[1;33m(\u001b[0m\u001b[0mxx0\u001b[0m\u001b[1;33m.\u001b[0m\u001b[0mravel\u001b[0m\u001b[1;33m(\u001b[0m\u001b[1;33m)\u001b[0m\u001b[1;33m,\u001b[0m\u001b[0mxx1\u001b[0m\u001b[1;33m.\u001b[0m\u001b[0mravel\u001b[0m\u001b[1;33m(\u001b[0m\u001b[1;33m)\u001b[0m\u001b[1;33m)\u001b[0m\u001b[1;33m)\u001b[0m\u001b[1;33m)\u001b[0m\u001b[1;33m\u001b[0m\u001b[0m\n\u001b[0m\u001b[0;32m     14\u001b[0m \u001b[1;33m\u001b[0m\u001b[0m\n\u001b[0;32m     15\u001b[0m \u001b[0mZ\u001b[0m \u001b[1;33m=\u001b[0m \u001b[0mZ\u001b[0m\u001b[1;33m.\u001b[0m\u001b[0mreshape\u001b[0m\u001b[1;33m(\u001b[0m\u001b[0mxx0\u001b[0m\u001b[1;33m.\u001b[0m\u001b[0mshape\u001b[0m\u001b[1;33m)\u001b[0m\u001b[1;33m\u001b[0m\u001b[0m\n",
      "\u001b[1;32m<ipython-input-90-16b579877acf>\u001b[0m in \u001b[0;36mtree_clf\u001b[1;34m(x)\u001b[0m\n\u001b[0;32m      2\u001b[0m     \u001b[0my_pred\u001b[0m \u001b[1;33m=\u001b[0m \u001b[0mlist\u001b[0m\u001b[1;33m(\u001b[0m\u001b[1;33m)\u001b[0m\u001b[1;33m\u001b[0m\u001b[0m\n\u001b[0;32m      3\u001b[0m     \u001b[1;32mfor\u001b[0m \u001b[0mit\u001b[0m \u001b[1;32min\u001b[0m \u001b[0mx\u001b[0m\u001b[1;33m.\u001b[0m\u001b[0mtranspose\u001b[0m\u001b[1;33m(\u001b[0m\u001b[1;33m)\u001b[0m\u001b[1;33m:\u001b[0m\u001b[1;33m\u001b[0m\u001b[0m\n\u001b[1;32m----> 4\u001b[1;33m         \u001b[0my_pred\u001b[0m\u001b[1;33m.\u001b[0m\u001b[0mappend\u001b[0m\u001b[1;33m(\u001b[0m\u001b[1;36m1\u001b[0m \u001b[1;32mif\u001b[0m \u001b[0mit\u001b[0m\u001b[1;33m[\u001b[0m\u001b[0mfirstSplit\u001b[0m\u001b[1;33m[\u001b[0m\u001b[1;34m'dimension'\u001b[0m\u001b[1;33m]\u001b[0m\u001b[1;33m]\u001b[0m \u001b[1;33m<=\u001b[0m \u001b[0mfirstSplit\u001b[0m\u001b[1;33m[\u001b[0m\u001b[1;34m'edge'\u001b[0m\u001b[1;33m]\u001b[0m \u001b[1;32melse\u001b[0m \u001b[1;36m0\u001b[0m\u001b[1;33m)\u001b[0m\u001b[1;33m\u001b[0m\u001b[0m\n\u001b[0m\u001b[0;32m      5\u001b[0m     \u001b[1;32mreturn\u001b[0m \u001b[0mnp\u001b[0m\u001b[1;33m.\u001b[0m\u001b[0marray\u001b[0m\u001b[1;33m(\u001b[0m\u001b[0my_pred\u001b[0m\u001b[1;33m)\u001b[0m\u001b[1;33m\u001b[0m\u001b[0m\n\u001b[0;32m      6\u001b[0m \u001b[1;33m\u001b[0m\u001b[0m\n",
      "\u001b[1;31mTypeError\u001b[0m: 'int' object is not subscriptable"
     ]
    }
   ],
   "source": [
    "def tree_clf(x):\n",
    "    y_pred = list()  \n",
    "    for it in x.transpose():\n",
    "        y_pred.append(1 if it[firstSplit['dimension']] <= firstSplit['edge'] else 0)\n",
    "    return np.array(y_pred)\n",
    "\n",
    "h = .02\n",
    "x0_min, x0_max = np.min(x[:,0]) - 1, np.max(x[:,0]) + 1\n",
    "x1_min, x1_max = np.min(x[:,1]) - 1, np.max(x[:,1]) + 1\n",
    "xx0, xx1 = np.meshgrid(np.arange(x0_min, x0_max, h),\n",
    "                         np.arange(x1_min, x1_max, h))\n",
    "\n",
    "Z = tree_clf(np.stack((xx0.ravel(),xx1.ravel())))\n",
    "\n",
    "Z = Z.reshape(xx0.shape)\n",
    "cm = plt.cm.RdBu\n",
    "plt.contourf(xx0, xx1, Z, cmap=cm, alpha=.8)\n",
    "plt.scatter(x[:,0], x[:,1], c = y)\n"
   ]
  },
  {
   "cell_type": "code",
   "execution_count": null,
   "metadata": {},
   "outputs": [],
   "source": [
    "# decisionsTree:\n",
    "# int or {\n",
    "#     dimension: 1,\n",
    "#     edge: 1.5,\n",
    "#     left: 2, # particular leaf (int)\n",
    "#     right: {...decisionsTree} # decisionsTree (dict)\n",
    "# }\n",
    "def categorizePoint(point, decisionTree):\n",
    "    dimension = decisionTree['dimension']\n",
    "    edge = decisionTree['edge']\n",
    "    left = decisionTree['left']\n",
    "    right = decisionTree['right']\n",
    "    target = left if point[dimension] <= edge else right\n",
    "    \n",
    "    if (type(target) is dict):\n",
    "        return categorizePoint(point, target);\n",
    "    else:\n",
    "        return target;"
   ]
  },
  {
   "cell_type": "code",
   "execution_count": null,
   "metadata": {},
   "outputs": [],
   "source": [
    "def categorizePoints(x, decisionTree):\n",
    "    y_pred = list()  \n",
    "    for it in x.transpose():\n",
    "        y_pred.append(categorizePoint(it, decisionTree))\n",
    "    return np.array(y_pred)"
   ]
  },
  {
   "cell_type": "code",
   "execution_count": null,
   "metadata": {},
   "outputs": [],
   "source": [
    "def printDecisionsTree(x, decisionTree):\n",
    "    h = .02\n",
    "    x0_min, x0_max = np.min(x[:,0]) - 1, np.max(x[:,0]) + 1\n",
    "    x1_min, x1_max = np.min(x[:,1]) - 1, np.max(x[:,1]) + 1\n",
    "    xx0, xx1 = np.meshgrid(np.arange(x0_min, x0_max, h),\n",
    "                             np.arange(x1_min, x1_max, h))\n",
    "\n",
    "    Z = categorizePoints(np.stack((xx0.ravel(),xx1.ravel())), decisionTree)\n",
    "\n",
    "    Z = Z.reshape(xx0.shape)\n",
    "    cm = plt.cm.RdBu\n",
    "    plt.contourf(xx0, xx1, Z, cmap=cm, alpha=.8)\n",
    "    plt.scatter(x[:,0], x[:,1], c = y)"
   ]
  },
  {
   "cell_type": "code",
   "execution_count": null,
   "metadata": {},
   "outputs": [],
   "source": [
    "def getDesisionTree(valuesSet):\n",
    "    decision = getEdge(valuesSet);\n",
    "    \n",
    "    if (type(decision) is int):\n",
    "        return decision;\n",
    "    else:\n",
    "        return {\n",
    "            'dimension': decision['dimension'],\n",
    "            'edge': decision['edge'],\n",
    "            'left': getDesisionTree(decision['left']),\n",
    "            'right': getDesisionTree(decision['right']),\n",
    "        }\n",
    "\n",
    "tree = getDesisionTree({\n",
    "    'x': x,\n",
    "    'y': y,\n",
    "})\n",
    "\n",
    "import pprint\n",
    "pprint.pprint(tree)\n",
    "\n",
    "printDecisionsTree(x, tree)"
   ]
  },
  {
   "cell_type": "code",
   "execution_count": null,
   "metadata": {},
   "outputs": [],
   "source": []
  },
  {
   "cell_type": "code",
   "execution_count": null,
   "metadata": {},
   "outputs": [],
   "source": []
  },
  {
   "cell_type": "code",
   "execution_count": null,
   "metadata": {},
   "outputs": [],
   "source": []
  }
 ],
 "metadata": {
  "kernelspec": {
   "display_name": "Python 3",
   "language": "python",
   "name": "python3"
  },
  "language_info": {
   "codemirror_mode": {
    "name": "ipython",
    "version": 3
   },
   "file_extension": ".py",
   "mimetype": "text/x-python",
   "name": "python",
   "nbconvert_exporter": "python",
   "pygments_lexer": "ipython3",
   "version": "3.7.0"
  }
 },
 "nbformat": 4,
 "nbformat_minor": 4
}
